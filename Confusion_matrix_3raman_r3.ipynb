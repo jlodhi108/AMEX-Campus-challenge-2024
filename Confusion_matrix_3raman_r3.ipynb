{
  "nbformat": 4,
  "nbformat_minor": 0,
  "metadata": {
    "colab": {
      "provenance": [],
      "authorship_tag": "ABX9TyOlF42U2TYOIcNzR/Kr9pTh",
      "include_colab_link": true
    },
    "kernelspec": {
      "name": "python3",
      "display_name": "Python 3"
    },
    "language_info": {
      "name": "python"
    }
  },
  "cells": [
    {
      "cell_type": "markdown",
      "metadata": {
        "id": "view-in-github",
        "colab_type": "text"
      },
      "source": [
        "<a href=\"https://colab.research.google.com/github/Raman-kr1/AMEX-Campus-challenge-2024/blob/main/Confusion_matrix_3raman_r3.ipynb\" target=\"_parent\"><img src=\"https://colab.research.google.com/assets/colab-badge.svg\" alt=\"Open In Colab\"/></a>"
      ]
    },
    {
      "cell_type": "code",
      "execution_count": null,
      "metadata": {
        "id": "jJEjJQwpRojr",
        "colab": {
          "base_uri": "https://localhost:8080/",
          "height": 998
        },
        "outputId": "9d5f25fb-7cc9-4dac-fd29-db489979b17b"
      },
      "outputs": [
        {
          "output_type": "stream",
          "name": "stdout",
          "text": [
            "   unique_identifier  risk_score_2  risk_score_3  risk_score_5  risk_score_7  \\\n",
            "0             106491       0.26372             2            98           392   \n",
            "1             123317       0.03074             1            68           413   \n",
            "2             105861       0.22262            81            98           471   \n",
            "3             104945       0.24327            67            35           453   \n",
            "4             100794       0.15370            15            57           335   \n",
            "\n",
            "   return_payments  merchant1_amt  default_ind  \n",
            "0                0        1550.27            0  \n",
            "1                0         175.00            0  \n",
            "2                0         311.94            0  \n",
            "3             2305        1322.73            0  \n",
            "4                0        1350.00            0  \n"
          ]
        },
        {
          "output_type": "display_data",
          "data": {
            "text/plain": [
              "<Figure size 800x600 with 1 Axes>"
            ],
            "image/png": "[encoded data removed]"
          },
          "metadata": {}
        },
        {
          "output_type": "stream",
          "name": "stdout",
          "text": [
            "Accuracy: 0.9978\n",
            "Classification Report:\n",
            "              precision    recall  f1-score   support\n",
            "\n",
            "           0       1.00      1.00      1.00     62121\n",
            "           1       0.97      0.64      0.77       363\n",
            "\n",
            "    accuracy                           1.00     62484\n",
            "   macro avg       0.99      0.82      0.88     62484\n",
            "weighted avg       1.00      1.00      1.00     62484\n",
            "\n",
            "Predictions have been added to the dataset and saved to 'amex_data_with_predictions.xlsx'.\n"
          ]
        }
      ],
      "source": [
        "import pandas as pd\n",
        "import numpy as np\n",
        "from sklearn.model_selection import train_test_split\n",
        "from sklearn.ensemble import RandomForestClassifier\n",
        "from sklearn.preprocessing import StandardScaler\n",
        "from sklearn.metrics import confusion_matrix, accuracy_score, classification_report\n",
        "import seaborn as sns\n",
        "import matplotlib.pyplot as plt\n",
        "\n",
        "# Load your dataset\n",
        "df = pd.read_excel('/content/6var.xlsx')\n",
        "print(df.head())\n",
        "\n",
        "# Prepare features and labels\n",
        "# Drop unnecessary columns\n",
        "columns_to_drop = ['unique_identifier']  # Replace with your actual column names\n",
        "X = df.drop(columns=['default_ind'] + columns_to_drop)\n",
        "y = df['default_ind']\n",
        "\n",
        "# Split data into training and test sets\n",
        "X_train, X_test, y_train, y_test = train_test_split(X, y, test_size=0.40, random_state=42)\n",
        "\n",
        "# Feature scaling\n",
        "scaler = StandardScaler()\n",
        "X_train = scaler.fit_transform(X_train)\n",
        "X_test = scaler.transform(X_test)\n",
        "\n",
        "# Create and train the Random Forest model\n",
        "model = RandomForestClassifier(random_state=42, class_weight='balanced')\n",
        "model.fit(X_train, y_train)\n",
        "\n",
        "# Make predictions on both training and test sets\n",
        "y_train_pred = model.predict(X_train)\n",
        "y_test_pred = model.predict(X_test)\n",
        "\n",
        "# Combine predictions and true labels\n",
        "all_y = np.concatenate([y_train, y_test])\n",
        "all_y_pred = np.concatenate([y_train_pred, y_test_pred])\n",
        "\n",
        "# Compute the confusion matrix for the overall data\n",
        "cm = confusion_matrix(all_y, all_y_pred)\n",
        "\n",
        "# Create a DataFrame for easier plotting with seaborn\n",
        "cm_df = pd.DataFrame(cm, index=['0', '1'], columns=['0', '1'])\n",
        "\n",
        "# Plot the confusion matrix\n",
        "plt.figure(figsize=(8, 6))\n",
        "sns.heatmap(cm_df, annot=True, fmt='d', cmap='Blues', cbar=False,\n",
        "            xticklabels=['0', '1'], yticklabels=['0', '1'])\n",
        "plt.xlabel('Predicted Label')\n",
        "plt.ylabel('True Label')\n",
        "plt.title('Confusion Matrix for Overall Data')\n",
        "plt.show()\n",
        "\n",
        "# Calculate precision, accuracy, and recall\n",
        "accuracy = accuracy_score(all_y, all_y_pred)\n",
        "classification_rep = classification_report(all_y, all_y_pred, target_names=['0', '1'])\n",
        "\n",
        "print(f'Accuracy: {accuracy:.4f}')\n",
        "print('Classification Report:')\n",
        "print(classification_rep)\n",
        "\n",
        "# Make predictions on the entire dataset\n",
        "X_full = scaler.transform(X)  # Scale the entire dataset\n",
        "df['predictions'] = model.predict(X_full)  # Add predictions to the DataFrame\n",
        "\n",
        "# Save the DataFrame with predictions to a new Excel file\n",
        "df.to_excel('/content/amex_data_with_predictions.xlsx', index=False)\n",
        "\n",
        "print(\"Predictions have been added to the dataset and saved to 'amex_data_with_predictions.xlsx'.\")\n"
      ]
    }
  ]
}