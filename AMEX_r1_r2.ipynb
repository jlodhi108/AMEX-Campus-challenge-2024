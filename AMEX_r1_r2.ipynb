{
  "nbformat": 4,
  "nbformat_minor": 0,
  "metadata": {
    "colab": {
      "provenance": [],
      "include_colab_link": true
    },
    "kernelspec": {
      "name": "python3",
      "display_name": "Python 3"
    },
    "language_info": {
      "name": "python"
    }
  },
  "cells": [
    {
      "cell_type": "markdown",
      "metadata": {
        "id": "view-in-github",
        "colab_type": "text"
      },
      "source": [
        "<a href=\"https://colab.research.google.com/github/Raman-kr1/AMEX-Campus-challenge-2024/blob/main/AMEX_r1_r2.ipynb\" target=\"_parent\"><img src=\"https://colab.research.google.com/assets/colab-badge.svg\" alt=\"Open In Colab\"/></a>"
      ]
    },
    {
      "cell_type": "code",
      "execution_count": null,
      "metadata": {
        "colab": {
          "base_uri": "https://localhost:8080/"
        },
        "id": "mIa3uDhfxwUn",
        "outputId": "048448b5-2263-4a76-e882-b59f4e607cd9"
      },
      "outputs": [
        {
          "output_type": "stream",
          "name": "stdout",
          "text": [
            "The number 5362987414202696 is valid according to the Luhn algorithm.\n"
          ]
        }
      ],
      "source": [
        "# check individually\n",
        "\n",
        "def luhn_checksum(card_number):\n",
        "    digits = [int(x) for x in card_number]\n",
        "    odd_digits = digits[-1::-2]\n",
        "    even_digits = digits[-2::-2]\n",
        "    checksum = 0\n",
        "    checksum += sum(odd_digits)\n",
        "    for digit in even_digits:\n",
        "        checksum += sum(divmod(digit * 2, 10))\n",
        "    return checksum % 10\n",
        "\n",
        "def is_luhn_valid(card_number):\n",
        "    return luhn_checksum(card_number) == 0\n",
        "\n",
        "# Check if the number Card No is valid\n",
        "card_number = \"5362987414202696\"\n",
        "\n",
        "if is_luhn_valid(card_number):\n",
        "    print(f\"The number {card_number} is valid according to the Luhn algorithm.\")\n",
        "else:\n",
        "    print(f\"The number {card_number} is not valid according to the Luhn algorithm.\")\n"
      ]
    },
    {
      "cell_type": "code",
      "source": [
        "# one by one\n",
        "def luhn_checksum(card_number):\n",
        "    digits = [int(x) for x in card_number]\n",
        "    odd_digits = digits[-1::-2]\n",
        "    even_digits = digits[-2::-2]\n",
        "    checksum = 0\n",
        "    checksum += sum(odd_digits)\n",
        "    for digit in even_digits:\n",
        "        checksum += sum(divmod(digit * 2, 10))\n",
        "    return checksum % 10\n",
        "\n",
        "def find_15th_digit(card_number_14):\n",
        "    # Append a placeholder digit '0' to the 14-digit number\n",
        "    for i in range(10):\n",
        "        card_number = card_number_14 + str(i)\n",
        "        if luhn_checksum(card_number) == 0:\n",
        "            return i\n",
        "    return None  # This should not happen if the input is correct\n",
        "\n",
        "# Example: Given a 14-digit number\n",
        "card_number_14 = \"99101442202295\"\n",
        "\n",
        "digit_15 = find_15th_digit(card_number_14)\n",
        "\n",
        "if digit_15 is not None:\n",
        "    print(f\"The 15th digit for the number {card_number_14} is {digit_15}.\")\n",
        "else:\n",
        "    print(\"Couldn't determine the 15th digit.\")\n"
      ],
      "metadata": {
        "colab": {
          "base_uri": "https://localhost:8080/"
        },
        "id": "xwJNPNOkzFL0",
        "outputId": "7b8ce1c2-f84c-4199-8899-1a8d46e7626e"
      },
      "execution_count": null,
      "outputs": [
        {
          "output_type": "stream",
          "name": "stdout",
          "text": [
            "The 15th digit for the number 99101442202295 is 6.\n"
          ]
        }
      ]
    },
    {
      "cell_type": "code",
      "source": [
        "# RN\n",
        "# In one string\n",
        "\n",
        "def luhn_checksum(card_number):\n",
        "    digits = [int(x) for x in card_number]\n",
        "    odd_digits = digits[-1::-2]\n",
        "    even_digits = digits[-2::-2]\n",
        "    checksum = 0\n",
        "    checksum += sum(odd_digits)\n",
        "    for digit in even_digits:\n",
        "        checksum += sum(divmod(digit * 2, 10))\n",
        "    return checksum % 10\n",
        "\n",
        "def find_15th_digit(card_number_14):\n",
        "    for i in range(10):\n",
        "        card_number = card_number_14 + str(i)\n",
        "        if luhn_checksum(card_number) == 0:\n",
        "            return i\n",
        "    return None  # This should not happen if the input is correct\n",
        "\n",
        "# List of 14-digit numbers\n",
        "card_numbers = [\n",
        "  \"99222234649165\",\n",
        "\"99326710819885\",\n",
        "\"99511247542222\",\n",
        "\"99361436311563\",\n",
        "\"99864401841198\",\n",
        "\"99323236871417\",\n",
        "\"99309300717760\",\n",
        "\"99931126795805\",\n",
        "\"99373541895101\",\n",
        "\"99390049372722\",\n",
        "]\n",
        "\n",
        "# Find and print the 15th digit for each number\n",
        "for card_number_14 in card_numbers:\n",
        "    digit_15 = find_15th_digit(card_number_14)\n",
        "    if digit_15 is not None:\n",
        "        print(f\"The 15th digit for the number {card_number_14} is {digit_15}.\")\n",
        "    else:\n",
        "        print(f\"Couldn't determine the 15th digit for the number {card_number_14}.\")\n"
      ],
      "metadata": {
        "colab": {
          "base_uri": "https://localhost:8080/"
        },
        "id": "2N08jCO71FoB",
        "outputId": "3421b906-9585-473b-f2ff-d1c19cdae7c7"
      },
      "execution_count": null,
      "outputs": [
        {
          "output_type": "stream",
          "name": "stdout",
          "text": [
            "The 15th digit for the number 99222234649165 is 7.\n",
            "The 15th digit for the number 99326710819885 is 8.\n",
            "The 15th digit for the number 99511247542222 is 6.\n",
            "The 15th digit for the number 99361436311563 is 2.\n",
            "The 15th digit for the number 99864401841198 is 2.\n",
            "The 15th digit for the number 99323236871417 is 4.\n",
            "The 15th digit for the number 99309300717760 is 7.\n",
            "The 15th digit for the number 99931126795805 is 0.\n",
            "The 15th digit for the number 99373541895101 is 8.\n",
            "The 15th digit for the number 99390049372722 is 6.\n"
          ]
        }
      ]
    }
  ]
}